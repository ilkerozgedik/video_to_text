{
  "cells": [
    {
      "cell_type": "markdown",
      "metadata": {
        "id": "setup_title"
      },
      "source": [
        "# Video/Audio to Text Converter\n",
        "This notebook converts video/audio files to text using Whisper model."
      ]
    },
    {
      "cell_type": "code",
      "execution_count": null,
      "metadata": {
        "id": "install_dependencies"
      },
      "outputs": [],
      "source": [
        "!pip install moviepy openai-whisper ffmpeg-python setuptools-rust pydub torch tqdm\n",
        "!apt-get update && apt-get install -y ffmpeg"
      ]
    },
    {
      "cell_type": "code",
      "execution_count": null,
      "metadata": {
        "id": "upload_file"
      },
      "outputs": [],
      "source": [
        "from google.colab import files\n",
        "uploaded = files.upload()\n",
        "input_file = next(iter(uploaded.keys()))"
      ]
    },
    {
      "cell_type": "code",
      "execution_count": null,
      "metadata": {
        "id": "main_code"
      },
      "outputs": [],
      "source": [
        "# Download and import the script\n",
        "!wget https://raw.githubusercontent.com/ilkerozgedik/video_to_text/main/video_to_text.py\n",
        "from video_to_text import *\n",
        "\n",
        "# Process the file\n",
        "args = type('Args', (), {\n",
        "    'input_file': input_file,\n",
        "    'output_file': 'transcript.txt',\n",
        "    'model_size': 'base',\n",
        "    'language': None,\n",
        "    'chunk_size': 10,\n",
        "    'num_workers': 2,\n",
        "    'include_timestamps': True,\n",
        "    'no_cuda': False\n",
        "})()\n",
        "\n",
        "main(args)"
      ]
    },
    {
      "cell_type": "code",
      "execution_count": null,
      "metadata": {
        "id": "download_result"
      },
      "outputs": [],
      "source": [
        "# Download the transcript\n",
        "files.download('transcript.txt')"
      ]
    }
  ],
  "metadata": {
    "accelerator": "GPU",
    "colab": {
      "name": "Video/Audio to Text Converter",
      "private_outputs": true,
      "provenance": []
    },
    "kernelspec": {
      "display_name": "Python 3",
      "name": "python3"
    }
  },
  "nbformat": 4,
  "nbformat_minor": 0
}
